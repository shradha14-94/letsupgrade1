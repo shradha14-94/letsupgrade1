{
 "cells": [
  {
   "cell_type": "markdown",
   "metadata": {},
   "source": [
    "#q1\n",
    "You all are Pilots, you want to land a plane safely, so altitude required for landing a plane is\n",
    "1000ft, it it is less than tell pilot to land the plane, or it is more than that but less than 5000ft ask\n",
    "the pilot to “come down to 1000ft”, else if it more than 5000ft ask the pilot to “go around and try\n",
    "later”\n",
    "Example : Input - 1000\n",
    "\n",
    "Output - Safe to Land\n",
    "\n",
    "Example : Input - 4500\n",
    "\n",
    "Output - Bring down to 1000\n",
    "\n",
    "Example : Input - 6500\n",
    "\n",
    "Output - Turn Around\n"
   ]
  },
  {
   "cell_type": "code",
   "execution_count": 16,
   "metadata": {},
   "outputs": [
    {
     "name": "stdout",
     "output_type": "stream",
     "text": [
      "plane is safe to land\n"
     ]
    }
   ],
   "source": [
    "alt=1000\n",
    "if alt==1000:\n",
    "    print(\"safe to land\")\n",
    "elif alt<=5000:\n",
    "    print(\"Bring down to 1000\")\n",
    "elif alt>=5000:\n",
    "        print(\"turn around\")"
   ]
  },
  {
   "cell_type": "code",
   "execution_count": 17,
   "metadata": {},
   "outputs": [
    {
     "name": "stdout",
     "output_type": "stream",
     "text": [
      "Bring down to 1000\n"
     ]
    }
   ],
   "source": [
    "alt=4500\n",
    "if alt==1000:\n",
    "    print(\"safe to land\")\n",
    "elif alt<=5000:\n",
    "    print(\"Bring down to 1000\")\n",
    "elif alt>=5000:\n",
    "        print(\"turn around\")"
   ]
  },
  {
   "cell_type": "code",
   "execution_count": 18,
   "metadata": {},
   "outputs": [
    {
     "name": "stdout",
     "output_type": "stream",
     "text": [
      "turn around\n"
     ]
    }
   ],
   "source": [
    "alt=6500\n",
    "if alt==1000:\n",
    "    print(\"safe to land\")\n",
    "elif alt<=5000:\n",
    "    print(\"Bring down to 1000\")\n",
    "elif alt>=5000:\n",
    "        print(\"turn around\")"
   ]
  },
  {
   "cell_type": "code",
   "execution_count": 19,
   "metadata": {},
   "outputs": [
    {
     "name": "stdout",
     "output_type": "stream",
     "text": [
      "1\n",
      "2\n",
      "3\n",
      "5\n",
      "7\n",
      "11\n",
      "13\n",
      "17\n",
      "19\n",
      "23\n",
      "29\n",
      "31\n",
      "37\n",
      "41\n",
      "43\n",
      "47\n",
      "53\n",
      "59\n",
      "61\n",
      "67\n",
      "71\n",
      "73\n",
      "79\n",
      "83\n",
      "89\n",
      "97\n",
      "101\n",
      "103\n",
      "107\n",
      "109\n",
      "113\n",
      "127\n",
      "131\n",
      "137\n",
      "139\n",
      "149\n",
      "151\n",
      "157\n",
      "163\n",
      "167\n",
      "173\n",
      "179\n",
      "181\n",
      "191\n",
      "193\n",
      "197\n",
      "199\n"
     ]
    }
   ],
   "source": [
    "#q2 Using for loop please print all the prime numbers between 1- 200 using FOR LOOP AND RANGE\n",
    "#function.\n",
    "for i in range(1,201): \n",
    "    for j in range(2,i): \n",
    "        if(i % j==0): \n",
    "            break\n",
    "    else: \n",
    "        print(i,) "
   ]
  },
  {
   "cell_type": "code",
   "execution_count": null,
   "metadata": {},
   "outputs": [],
   "source": []
  }
 ],
 "metadata": {
  "kernelspec": {
   "display_name": "Python 3",
   "language": "python",
   "name": "python3"
  },
  "language_info": {
   "codemirror_mode": {
    "name": "ipython",
    "version": 3
   },
   "file_extension": ".py",
   "mimetype": "text/x-python",
   "name": "python",
   "nbconvert_exporter": "python",
   "pygments_lexer": "ipython3",
   "version": "3.7.6"
  }
 },
 "nbformat": 4,
 "nbformat_minor": 4
}
